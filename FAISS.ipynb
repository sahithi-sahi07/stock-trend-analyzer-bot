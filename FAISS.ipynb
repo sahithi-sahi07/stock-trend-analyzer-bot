{
 "cells": [
  {
   "cell_type": "markdown",
   "id": "071cf906-974b-4142-90a7-45c66a09f912",
   "metadata": {},
   "source": [
    "# Understanding Faiss"
   ]
  },
  {
   "cell_type": "code",
   "execution_count": null,
   "id": "84398816-b345-4c89-8f2e-e6d0bc282fae",
   "metadata": {},
   "outputs": [
    {
     "name": "stdout",
     "output_type": "stream",
     "text": [
      "Collecting faiss-cpu\n",
      "  Downloading faiss_cpu-1.9.0.post1-cp313-cp313-win_amd64.whl.metadata (4.5 kB)\n",
      "Collecting numpy<3.0,>=1.25.0 (from faiss-cpu)\n",
      "  Downloading numpy-2.2.0-cp313-cp313-win_amd64.whl.metadata (60 kB)\n",
      "Requirement already satisfied: packaging in c:\\users\\91939\\appdata\\local\\programs\\python\\python313\\lib\\site-packages (from faiss-cpu) (24.2)\n",
      "Downloading faiss_cpu-1.9.0.post1-cp313-cp313-win_amd64.whl (13.8 MB)\n",
      "   ---------------------------------------- 0.0/13.8 MB ? eta -:--:--\n",
      "    --------------------------------------- 0.3/13.8 MB ? eta -:--:--\n",
      "   -- ------------------------------------- 0.8/13.8 MB 2.9 MB/s eta 0:00:05\n",
      "   --- ------------------------------------ 1.3/13.8 MB 2.4 MB/s eta 0:00:06\n",
      "   ---- ----------------------------------- 1.6/13.8 MB 2.1 MB/s eta 0:00:06\n",
      "   ------ --------------------------------- 2.1/13.8 MB 2.3 MB/s eta 0:00:06\n",
      "   ------- -------------------------------- 2.6/13.8 MB 2.2 MB/s eta 0:00:06\n",
      "   -------- ------------------------------- 2.9/13.8 MB 2.1 MB/s eta 0:00:06\n",
      "   ---------- ----------------------------- 3.7/13.8 MB 2.2 MB/s eta 0:00:05\n",
      "   ----------- ---------------------------- 3.9/13.8 MB 2.2 MB/s eta 0:00:05\n",
      "   ------------ --------------------------- 4.5/13.8 MB 2.2 MB/s eta 0:00:05\n",
      "   -------------- ------------------------- 5.0/13.8 MB 2.2 MB/s eta 0:00:04\n",
      "   --------------- ------------------------ 5.5/13.8 MB 2.2 MB/s eta 0:00:04\n",
      "   ----------------- ---------------------- 6.0/13.8 MB 2.3 MB/s eta 0:00:04\n",
      "   ------------------ --------------------- 6.6/13.8 MB 2.3 MB/s eta 0:00:04\n",
      "   ------------------- -------------------- 6.8/13.8 MB 2.2 MB/s eta 0:00:04\n",
      "   --------------------- ------------------ 7.3/13.8 MB 2.2 MB/s eta 0:00:03\n",
      "   ---------------------- ----------------- 7.9/13.8 MB 2.2 MB/s eta 0:00:03\n",
      "   ------------------------ --------------- 8.4/13.8 MB 2.2 MB/s eta 0:00:03\n",
      "   ------------------------ --------------- 8.7/13.8 MB 2.2 MB/s eta 0:00:03\n",
      "   -------------------------- ------------- 9.2/13.8 MB 2.2 MB/s eta 0:00:03\n",
      "   ---------------------------- ----------- 9.7/13.8 MB 2.2 MB/s eta 0:00:02\n",
      "   ---------------------------- ----------- 10.0/13.8 MB 2.2 MB/s eta 0:00:02\n",
      "   ------------------------------ --------- 10.5/13.8 MB 2.2 MB/s eta 0:00:02\n",
      "   ------------------------------- -------- 10.7/13.8 MB 2.2 MB/s eta 0:00:02\n",
      "   --------------------------------- ------ 11.5/13.8 MB 2.2 MB/s eta 0:00:02\n",
      "   ---------------------------------- ----- 12.1/13.8 MB 2.2 MB/s eta 0:00:01\n",
      "   ------------------------------------ --- 12.6/13.8 MB 2.2 MB/s eta 0:00:01\n",
      "   -------------------------------------- - 13.4/13.8 MB 2.3 MB/s eta 0:00:01\n",
      "   ---------------------------------------  13.6/13.8 MB 2.3 MB/s eta 0:00:01\n",
      "   ---------------------------------------- 13.8/13.8 MB 2.2 MB/s eta 0:00:00\n",
      "Downloading numpy-2.2.0-cp313-cp313-win_amd64.whl (12.6 MB)\n",
      "   ---------------------------------------- 0.0/12.6 MB ? eta -:--:--\n",
      "    --------------------------------------- 0.3/12.6 MB ? eta -:--:--\n",
      "   -- ------------------------------------- 0.8/12.6 MB 2.6 MB/s eta 0:00:05\n",
      "   ---- ----------------------------------- 1.3/12.6 MB 2.3 MB/s eta 0:00:05\n",
      "   ----- ---------------------------------- 1.8/12.6 MB 2.2 MB/s eta 0:00:05\n",
      "   ------ --------------------------------- 2.1/12.6 MB 2.1 MB/s eta 0:00:06\n",
      "   ------- -------------------------------- 2.4/12.6 MB 2.0 MB/s eta 0:00:06\n",
      "   --------- ------------------------------ 2.9/12.6 MB 2.0 MB/s eta 0:00:05\n",
      "   --------- ------------------------------ 3.1/12.6 MB 2.0 MB/s eta 0:00:05\n",
      "   ----------- ---------------------------- 3.7/12.6 MB 1.9 MB/s eta 0:00:05\n",
      "   ------------ --------------------------- 3.9/12.6 MB 1.9 MB/s eta 0:00:05\n",
      "   ------------- -------------------------- 4.2/12.6 MB 1.9 MB/s eta 0:00:05\n",
      "   -------------- ------------------------- 4.7/12.6 MB 1.9 MB/s eta 0:00:05\n",
      "   --------------- ------------------------ 5.0/12.6 MB 1.8 MB/s eta 0:00:05\n",
      "   ---------------- ----------------------- 5.2/12.6 MB 1.9 MB/s eta 0:00:04\n",
      "   ----------------- ---------------------- 5.5/12.6 MB 1.8 MB/s eta 0:00:05\n",
      "   ------------------ --------------------- 5.8/12.6 MB 1.7 MB/s eta 0:00:05\n",
      "   ------------------- -------------------- 6.0/12.6 MB 1.7 MB/s eta 0:00:04\n",
      "   ------------------- -------------------- 6.0/12.6 MB 1.7 MB/s eta 0:00:04\n",
      "   --------------------- ------------------ 6.8/12.6 MB 1.7 MB/s eta 0:00:04\n",
      "   ---------------------- ----------------- 7.1/12.6 MB 1.7 MB/s eta 0:00:04\n",
      "   ----------------------- ---------------- 7.3/12.6 MB 1.6 MB/s eta 0:00:04\n",
      "   ----------------------- ---------------- 7.3/12.6 MB 1.6 MB/s eta 0:00:04\n",
      "   ----------------------- ---------------- 7.3/12.6 MB 1.6 MB/s eta 0:00:04\n",
      "   ----------------------- ---------------- 7.3/12.6 MB 1.6 MB/s eta 0:00:04\n",
      "   ------------------------ --------------- 7.6/12.6 MB 1.5 MB/s eta 0:00:04\n",
      "   ------------------------ --------------- 7.6/12.6 MB 1.5 MB/s eta 0:00:04\n",
      "   ------------------------ --------------- 7.9/12.6 MB 1.4 MB/s eta 0:00:04\n",
      "   ------------------------ --------------- 7.9/12.6 MB 1.4 MB/s eta 0:00:04\n",
      "   ------------------------ --------------- 7.9/12.6 MB 1.4 MB/s eta 0:00:04\n",
      "   ------------------------ --------------- 7.9/12.6 MB 1.4 MB/s eta 0:00:04\n",
      "   ------------------------- -------------- 8.1/12.6 MB 1.2 MB/s eta 0:00:04\n",
      "   ------------------------- -------------- 8.1/12.6 MB 1.2 MB/s eta 0:00:04\n",
      "   ------------------------- -------------- 8.1/12.6 MB 1.2 MB/s eta 0:00:04\n",
      "   -------------------------- ------------- 8.4/12.6 MB 1.2 MB/s eta 0:00:04\n",
      "   -------------------------- ------------- 8.4/12.6 MB 1.2 MB/s eta 0:00:04\n",
      "   -------------------------- ------------- 8.4/12.6 MB 1.2 MB/s eta 0:00:04\n",
      "   --------------------------- ------------ 8.7/12.6 MB 1.1 MB/s eta 0:00:04\n",
      "   --------------------------- ------------ 8.7/12.6 MB 1.1 MB/s eta 0:00:04\n",
      "   --------------------------- ------------ 8.7/12.6 MB 1.1 MB/s eta 0:00:04\n",
      "   ---------------------------- ----------- 8.9/12.6 MB 1.0 MB/s eta 0:00:04\n",
      "   ---------------------------- ----------- 8.9/12.6 MB 1.0 MB/s eta 0:00:04\n",
      "   ----------------------------- ---------- 9.2/12.6 MB 1.0 MB/s eta 0:00:04\n",
      "   ----------------------------- ---------- 9.4/12.6 MB 1.0 MB/s eta 0:00:04\n",
      "   ----------------------------- ---------- 9.4/12.6 MB 1.0 MB/s eta 0:00:04\n",
      "   ------------------------------ --------- 9.7/12.6 MB 1.0 MB/s eta 0:00:03\n",
      "   ------------------------------- -------- 10.0/12.6 MB 1.0 MB/s eta 0:00:03\n",
      "   -------------------------------- ------- 10.2/12.6 MB 1.0 MB/s eta 0:00:03\n",
      "   ---------------------------------- ----- 10.7/12.6 MB 1.0 MB/s eta 0:00:02\n",
      "   ---------------------------------- ----- 11.0/12.6 MB 1.0 MB/s eta 0:00:02\n",
      "   ----------------------------------- ---- 11.3/12.6 MB 1.0 MB/s eta 0:00:02\n",
      "   ------------------------------------ --- 11.5/12.6 MB 1.1 MB/s eta 0:00:02\n",
      "   ------------------------------------- -- 11.8/12.6 MB 1.1 MB/s eta 0:00:01\n",
      "   -------------------------------------- - 12.1/12.6 MB 1.1 MB/s eta 0:00:01\n",
      "   ---------------------------------------  12.3/12.6 MB 1.1 MB/s eta 0:00:01\n",
      "   ---------------------------------------- 12.6/12.6 MB 1.1 MB/s eta 0:00:00\n",
      "Installing collected packages: numpy, faiss-cpu\n",
      "Successfully installed faiss-cpu-1.9.0.post1 numpy-2.2.0\n"
     ]
    }
   ],
   "source": [
    "# #Install Packages\n",
    "!pip install faiss-cpu\n",
    "!pip install sentence-transformers"
   ]
  },
  {
   "cell_type": "code",
   "execution_count": null,
   "id": "9cc80c63-524f-4c27-b611-c73d3bc82c5a",
   "metadata": {},
   "outputs": [],
   "source": [
    "# import pandas \n",
    "import pandas as pd "
   ]
  },
  {
   "cell_type": "code",
   "execution_count": null,
   "id": "a972a14c-ef8a-4a76-91f1-fa1b060c6fc8",
   "metadata": {},
   "outputs": [],
   "source": [
    "df = pd.read_csv(\"FAISS_text.csv\")"
   ]
  },
  {
   "cell_type": "code",
   "execution_count": null,
   "id": "3638a82f-b6aa-4a00-b876-630725607ab1",
   "metadata": {},
   "outputs": [],
   "source": [
    "df"
   ]
  },
  {
   "cell_type": "code",
   "execution_count": null,
   "id": "560cbc60-1d6d-4c73-8a81-5d760a3da359",
   "metadata": {},
   "outputs": [],
   "source": [
    "from sentence_transformers import SentenceTransformer"
   ]
  },
  {
   "cell_type": "code",
   "execution_count": null,
   "id": "76101ea7-cca9-4257-b3f5-878b8a7c7b52",
   "metadata": {},
   "outputs": [],
   "source": [
    "# Hugging face encoder \n",
    "encoder = SentenceTransformer(\"all-mpnet-base-v2\")\n",
    "vectors = encoder.encode(df.text)"
   ]
  },
  {
   "cell_type": "code",
   "execution_count": null,
   "id": "84390cd4-df01-424d-b090-c04e5832c241",
   "metadata": {},
   "outputs": [],
   "source": [
    "vectors"
   ]
  },
  {
   "cell_type": "code",
   "execution_count": null,
   "id": "d3ea5311-d921-4a8d-9848-36771e67a75a",
   "metadata": {},
   "outputs": [],
   "source": [
    "vectors.shape"
   ]
  },
  {
   "cell_type": "code",
   "execution_count": null,
   "id": "b0beab1a-c3b0-4dc3-978e-e23dd5b3de70",
   "metadata": {},
   "outputs": [],
   "source": [
    "vectors[0]"
   ]
  },
  {
   "cell_type": "code",
   "execution_count": null,
   "id": "2be56af9-fb9d-4cb3-8dd2-74b3d82ca77d",
   "metadata": {},
   "outputs": [],
   "source": [
    "dim = vectors.shape[1]"
   ]
  },
  {
   "cell_type": "code",
   "execution_count": null,
   "id": "d6f6dd65-08aa-4fd6-85bc-a84dcfc80f09",
   "metadata": {},
   "outputs": [],
   "source": [
    "dim"
   ]
  },
  {
   "cell_type": "code",
   "execution_count": null,
   "id": "375f973d-b9b6-4073-9212-524f609c2c74",
   "metadata": {},
   "outputs": [],
   "source": [
    "import faiss\n",
    "index = faiss.IndexFlatL2(dim)"
   ]
  },
  {
   "cell_type": "code",
   "execution_count": null,
   "id": "f22d8ba5-a671-4477-b8bb-fd912c9cb298",
   "metadata": {},
   "outputs": [],
   "source": [
    "index\n"
   ]
  },
  {
   "cell_type": "code",
   "execution_count": null,
   "id": "57eb67d6-cf3a-40e4-9e3d-b2d271c470ac",
   "metadata": {},
   "outputs": [],
   "source": [
    "index.add(vectors)"
   ]
  },
  {
   "cell_type": "code",
   "execution_count": null,
   "id": "7ce5bb84-7848-450f-94c0-608964c8cbef",
   "metadata": {},
   "outputs": [],
   "source": [
    "search_query = \"An apple a day keeps doctor away\""
   ]
  },
  {
   "cell_type": "code",
   "execution_count": null,
   "id": "42b78d83-2525-44ea-bc13-f73ca558a498",
   "metadata": {},
   "outputs": [],
   "source": [
    "vec = encoder.encode(search_query)"
   ]
  },
  {
   "cell_type": "code",
   "execution_count": null,
   "id": "cac18d27-d2a2-4231-a1e3-506ec0a60337",
   "metadata": {},
   "outputs": [],
   "source": [
    "vec.shape"
   ]
  },
  {
   "cell_type": "code",
   "execution_count": null,
   "id": "ad515d64-4c7a-460b-820f-a7b776c04101",
   "metadata": {},
   "outputs": [],
   "source": [
    "import numpy as np \n",
    "svec = np.array(vec).reshape(1,-1)"
   ]
  },
  {
   "cell_type": "code",
   "execution_count": null,
   "id": "69b123ec-c35c-4bc6-9b39-4dcc4a550ef5",
   "metadata": {},
   "outputs": [],
   "source": [
    "svec.shape"
   ]
  },
  {
   "cell_type": "code",
   "execution_count": null,
   "id": "6886a2f8-d660-4525-a598-9d11b51f776a",
   "metadata": {},
   "outputs": [],
   "source": [
    "index.search(svec, k=2)"
   ]
  },
  {
   "cell_type": "code",
   "execution_count": null,
   "id": "b2ede8cc-da23-4f3b-893c-2dda6edec544",
   "metadata": {},
   "outputs": [],
   "source": [
    "dis, I = index.search(svec, k=2)"
   ]
  },
  {
   "cell_type": "code",
   "execution_count": null,
   "id": "1b3625d6-7a35-4c19-a6c2-486f58751b65",
   "metadata": {},
   "outputs": [],
   "source": [
    "dis"
   ]
  },
  {
   "cell_type": "code",
   "execution_count": null,
   "id": "0bbcf85a-8a1f-4826-890c-56b6cb3d9074",
   "metadata": {},
   "outputs": [],
   "source": [
    "I"
   ]
  },
  {
   "cell_type": "code",
   "execution_count": null,
   "id": "f9223e47-af12-429d-a620-225e85eb324e",
   "metadata": {},
   "outputs": [],
   "source": [
    "df.loc[I[0]]"
   ]
  },
  {
   "cell_type": "code",
   "execution_count": null,
   "id": "c87942c9-b411-4ee4-831b-84ff06eebe13",
   "metadata": {},
   "outputs": [],
   "source": []
  },
  {
   "cell_type": "code",
   "execution_count": null,
   "id": "87ff9eed-6faf-4ca3-8395-6100b28c63c3",
   "metadata": {},
   "outputs": [],
   "source": []
  },
  {
   "cell_type": "code",
   "execution_count": null,
   "id": "761ed3fe-c19a-4cbc-b642-a396df444cf8",
   "metadata": {},
   "outputs": [],
   "source": []
  },
  {
   "cell_type": "code",
   "execution_count": null,
   "id": "322d7d73-c72c-4aea-9a57-21d8a26c7648",
   "metadata": {},
   "outputs": [],
   "source": []
  },
  {
   "cell_type": "code",
   "execution_count": null,
   "id": "05cfd07f-a50f-431a-a6df-be8aecc7b5ce",
   "metadata": {},
   "outputs": [],
   "source": []
  },
  {
   "cell_type": "code",
   "execution_count": null,
   "id": "4acd8eaa-b113-4b33-9418-722f766f5738",
   "metadata": {},
   "outputs": [],
   "source": []
  },
  {
   "cell_type": "code",
   "execution_count": null,
   "id": "e01f5737-9e42-42b0-90a1-382462b2621d",
   "metadata": {},
   "outputs": [],
   "source": []
  },
  {
   "cell_type": "code",
   "execution_count": null,
   "id": "9d3587a2-709e-4f1a-b919-411d16b288a4",
   "metadata": {},
   "outputs": [],
   "source": []
  },
  {
   "cell_type": "code",
   "execution_count": null,
   "id": "e7e014dc-c3b3-4a01-8570-6cc7154b71a4",
   "metadata": {},
   "outputs": [],
   "source": []
  },
  {
   "cell_type": "code",
   "execution_count": null,
   "id": "9d6eed22-6e6a-4a18-8a83-bec5c1f9c9c0",
   "metadata": {},
   "outputs": [],
   "source": []
  },
  {
   "cell_type": "code",
   "execution_count": null,
   "id": "fa60fe77-9a6e-4402-9fd9-cf290a36a602",
   "metadata": {},
   "outputs": [],
   "source": []
  }
 ],
 "metadata": {
  "kernelspec": {
   "display_name": "Python 3",
   "language": "python",
   "name": "python3"
  },
  "language_info": {
   "codemirror_mode": {
    "name": "ipython",
    "version": 3
   },
   "file_extension": ".py",
   "mimetype": "text/x-python",
   "name": "python",
   "nbconvert_exporter": "python",
   "pygments_lexer": "ipython3",
   "version": "3.13.1"
  }
 },
 "nbformat": 4,
 "nbformat_minor": 5
}
